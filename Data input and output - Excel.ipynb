{
 "cells": [
  {
   "cell_type": "markdown",
   "metadata": {},
   "source": [
    "# A few choices #\n",
    "Both [openpyxl](https://openpyxl.readthedocs.org/) is the most common package for reading and writing Excel xlsx format. Another alternative is Pandas which also includes a few methods to access Excel files, and works well with DataFrame, its native data structure. For particular purpose on writing Excel xlsx format, [xlsxwriter](https://xlsxwriter.readthedocs.io/) can be a solution.\n",
    "\n",
    "\n",
    "# openpyxl #\n",
    "### Read an existing workbook ###"
   ]
  },
  {
   "cell_type": "code",
   "execution_count": 150,
   "metadata": {},
   "outputs": [
    {
     "name": "stdout",
     "output_type": "stream",
     "text": [
      "Name of the Sheet: SHEET_NAME\n",
      "Max number of row: 5\n",
      "Max number of column: 4\n",
      "Value of the cell B2: 0.038598783523411395\n",
      "Value of the cell B2(alternative): 0.038598783523411395\n",
      "Items in column A: ['Item A', 0.44764681589451627, 0.830473540660024, 0.1681346569449369, 0.8473554959465822]\n",
      "Items in row 1: ['Item A', 'Item B', 'Item C', 'Item D']\n",
      "convert each item in column B as a list-> ['Item D', 0.814882302389661, 0.4708263427643271, None, None]\n"
     ]
    },
    {
     "data": {
      "text/plain": [
       "<bound method Workbook.close of <openpyxl.workbook.workbook.Workbook object at 0x000001BCA6854DD8>>"
      ]
     },
     "execution_count": 150,
     "metadata": {},
     "output_type": "execute_result"
    }
   ],
   "source": [
    "import warnings\n",
    "warnings.simplefilter(\"ignore\", category=PendingDeprecationWarning)\n",
    "\n",
    "import openpyxl as opl\n",
    "\n",
    "#open the targer file\n",
    "bk=opl.load_workbook('FILE_NAME.xlsx',data_only=True)\n",
    "\n",
    "#Get a sheet to read\n",
    "sh=bk[\"SHEET_NAME\"]\n",
    "\n",
    "print(\"Name of the Sheet:\",sh.title)\n",
    "print(\"Max number of row:\", sh.max_row)\n",
    "print(\"Max number of column:\", sh.max_column)\n",
    "print(\"Value of the cell B2:\", sh.cell(2,2).value) #it will result =RAND() if using bk=openpyxl.load_workbook('FILE_NAME.xlsx')\n",
    "print(\"Value of the cell B2(alternative):\", sh['B2'].value) #alternative of cell(2,2).value\n",
    "\n",
    "print(\"Items in column A:\",[a.value for a in sh['A']])\n",
    "print(\"Items in row 1:\",[a.value for a in sh[1]])\n",
    "\n",
    "# A more general way to read these cells by columns without indicating column A, B or C\n",
    "full_cells=list(sh.columns)\n",
    "col_a=[a.value for a in list(full_cells[3])] # convert each item in column A as a list\n",
    "print(\"convert each item in column B as a list->\",col_a)  #if the full_cells is kinda unbalanced and the length of selected column is less than the max row, None would be applied for those empty cells\n",
    "#similarly, sh.rows property can use for the case of visiting through rows\n",
    "\n",
    "bk.close\n",
    "\n"
   ]
  },
  {
   "cell_type": "markdown",
   "metadata": {},
   "source": [
    "### Write a workbook ###"
   ]
  },
  {
   "cell_type": "code",
   "execution_count": 161,
   "metadata": {},
   "outputs": [
    {
     "data": {
      "text/plain": [
       "<bound method Workbook.close of <openpyxl.workbook.workbook.Workbook object at 0x000001BCA691CC18>>"
      ]
     },
     "execution_count": 161,
     "metadata": {},
     "output_type": "execute_result"
    }
   ],
   "source": [
    "import openpyxl as opl\n",
    "\n",
    "bk=opl.Workbook()\n",
    "fname=\"NEW_WORKBOOK.xlsx\"\n",
    "sh1=bk.active\n",
    "sh1.title=\"Page_1\"\n",
    "\n",
    "#A few essential ways for writing data into a worksheet\n",
    "for r in range(1,10):\n",
    "    sh1.append([\"A\",\"B\",\"C\",\"D\"]) #each element in this list will be insert into columns in sequence\n",
    "\n",
    "    \n",
    "sh2=bk.create_sheet(title=\"Page_2\") #create a new worksheet before writing\n",
    "sh2['C3']=\"there is cell(3,3)\"\n",
    "sh2.cell(2,4).value=\"this is D2\"\n",
    "\n",
    "sh3=bk.create_sheet(title=\"Page_3\")\n",
    "for row in range(1,5):\n",
    "    for col in range(1,3):\n",
    "        #_ =sh3.cell(column=col,row=row,value=\"{0}\".format(opl.utils.get_column_letter(col)))\n",
    "        sh3.cell(row,col).value=opl.utils.get_column_letter(col)+str(row)\n",
    "\n",
    "        \n",
    "sh3=bk.create_sheet(\"Page_4\") # this case is to batch processing by column-oreinted, but each lisrt should have the same size \n",
    "list1=[100,200,300,400]\n",
    "list2=[125,225,325,425]\n",
    "list3=[20,40,60,80]\n",
    "list4=[23,33,56,87]\n",
    "\n",
    "L=zip(list1,list2,list3,list4)\n",
    "\n",
    "for row in L:\n",
    "    sh3.append(row)\n",
    "        \n",
    "bk.save(filename=fname)\n",
    "bk.close\n"
   ]
  },
  {
   "cell_type": "markdown",
   "metadata": {},
   "source": [
    "### Creating a table ###"
   ]
  },
  {
   "cell_type": "code",
   "execution_count": 155,
   "metadata": {},
   "outputs": [],
   "source": [
    "import openpyxl as opl\n",
    "from openpyxl.worksheet.table import Table, TableStyleInfo\n",
    "\n",
    "bk = opl.Workbook()\n",
    "sh = bk.create_sheet('Table')\n",
    "\n",
    "data = [\n",
    "    ['Product 1', 14000, 15000, 8000, 6000],\n",
    "    ['Prodcut 2',   3000, 3000, 4000, 5000],\n",
    "    ['Product 3', 3000, 4000, 6500, 6300],\n",
    "    ['Product 4',  5000,  3500,  2200,  7000],\n",
    "]\n",
    "\n",
    "# add column headings. NB. these must be strings\n",
    "ws.append([\"Product\", \"March\", \"April\", \"May\", \"June\"])\n",
    "for row in data:\n",
    "    ws.append(row)\n",
    "\n",
    "tab = Table(displayName=\"Table1\", ref=\"A1:E5\")\n",
    "\n",
    "ws.add_table(tab)\n",
    "wb.save(\"table.xlsx\")"
   ]
  },
  {
   "cell_type": "markdown",
   "metadata": {},
   "source": [
    "# With Pandas #\n",
    "### Read a workbook ###"
   ]
  },
  {
   "cell_type": "code",
   "execution_count": null,
   "metadata": {},
   "outputs": [],
   "source": [
    "import pandas as pd\n",
    "file_path=r'C:\\XXX\\XX.xls'\n",
    "raw_mod = pd.read_excel(file_path, sheet_name='sheet1')\n"
   ]
  }
 ],
 "metadata": {
  "kernelspec": {
   "display_name": "Python 3",
   "language": "python",
   "name": "python3"
  },
  "language_info": {
   "codemirror_mode": {
    "name": "ipython",
    "version": 3
   },
   "file_extension": ".py",
   "mimetype": "text/x-python",
   "name": "python",
   "nbconvert_exporter": "python",
   "pygments_lexer": "ipython3",
   "version": "3.7.1"
  }
 },
 "nbformat": 4,
 "nbformat_minor": 2
}
