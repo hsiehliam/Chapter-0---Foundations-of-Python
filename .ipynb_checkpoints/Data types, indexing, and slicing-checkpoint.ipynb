{
 "cells": [
  {
   "cell_type": "markdown",
   "metadata": {},
   "source": [
    "List of common data types in Python:\n",
    "\n",
    "* bool\n",
    "* int\n",
    "* float\n",
    "* string\n",
    "* list\n",
    "* tuple\n",
    "* dict\n",
    "* range\n",
    "* set"
   ]
  },
  {
   "cell_type": "markdown",
   "metadata": {},
   "source": [
    "# bool\n",
    "The value of a bool class is either True or False"
   ]
  },
  {
   "cell_type": "code",
   "execution_count": 1,
   "metadata": {},
   "outputs": [
    {
     "name": "stdout",
     "output_type": "stream",
     "text": [
      "True\n",
      "<class 'bool'>\n"
     ]
    }
   ],
   "source": [
    "isGraduated=True\n",
    "print(isGraduated)\n",
    "print(type(isGraduated)) #<class 'bool'>\n"
   ]
  },
  {
   "cell_type": "markdown",
   "metadata": {},
   "source": [
    "# int, float, complex\n",
    "These are three distinct numeric types in Python: intergers,floating point numbers, and complex numbers."
   ]
  },
  {
   "cell_type": "code",
   "execution_count": 2,
   "metadata": {
    "scrolled": true
   },
   "outputs": [
    {
     "name": "stdout",
     "output_type": "stream",
     "text": [
      "2\n",
      "<class 'int'>\n",
      "2.0\n",
      "<class 'float'>\n",
      "(2+1j)\n",
      "<class 'complex'>\n"
     ]
    }
   ],
   "source": [
    "i=2\n",
    "print(i)\n",
    "print(type(i))\n",
    "\n",
    "f=2.0\n",
    "print(f)\n",
    "print(type(f))\n",
    "\n",
    "c=2+1j\n",
    "print(c)\n",
    "print(type(c))"
   ]
  },
  {
   "cell_type": "markdown",
   "metadata": {
    "collapsed": true
   },
   "source": [
    "All numeric types (except complex) support the following operations:\n",
    "\n",
    "<table border=\"1\" class=\"docutils\">\n",
    "<colgroup>\n",
    "<col width=\"25%\" />\n",
    "<col width=\"40%\" />\n",
    "<col width=\"11%\" />\n",
    "<col width=\"24%\" />\n",
    "</colgroup>\n",
    "<thead valign=\"bottom\">\n",
    "<tr class=\"row-odd\"><th class=\"head\">Operation</th>\n",
    "<th class=\"head\">Result</th>\n",
    "<th class=\"head\">Notes</th>\n",
    "<th class=\"head\">Full documentation</th>\n",
    "</tr>\n",
    "</thead>\n",
    "<tbody valign=\"top\">\n",
    "<tr class=\"row-even\"><td><code class=\"docutils literal notranslate\"><span class=\"pre\">x</span> <span class=\"pre\">+</span> <span class=\"pre\">y</span></code></td>\n",
    "<td>sum of <em>x</em> and <em>y</em></td>\n",
    "<td>&#160;</td>\n",
    "<td>&#160;</td>\n",
    "</tr>\n",
    "<tr class=\"row-odd\"><td><code class=\"docutils literal notranslate\"><span class=\"pre\">x</span> <span class=\"pre\">-</span> <span class=\"pre\">y</span></code></td>\n",
    "<td>difference of <em>x</em> and <em>y</em></td>\n",
    "<td>&#160;</td>\n",
    "<td>&#160;</td>\n",
    "</tr>\n",
    "<tr class=\"row-even\"><td><code class=\"docutils literal notranslate\"><span class=\"pre\">x</span> <span class=\"pre\">*</span> <span class=\"pre\">y</span></code></td>\n",
    "<td>product of <em>x</em> and <em>y</em></td>\n",
    "<td>&#160;</td>\n",
    "<td>&#160;</td>\n",
    "</tr>\n",
    "<tr class=\"row-odd\"><td><code class=\"docutils literal notranslate\"><span class=\"pre\">x</span> <span class=\"pre\">/</span> <span class=\"pre\">y</span></code></td>\n",
    "<td>quotient of <em>x</em> and <em>y</em></td>\n",
    "<td>&#160;</td>\n",
    "<td>&#160;</td>\n",
    "</tr>\n",
    "<tr class=\"row-even\"><td><code class=\"docutils literal notranslate\"><span class=\"pre\">x</span> <span class=\"pre\">//</span> <span class=\"pre\">y</span></code></td>\n",
    "<td>floored quotient of <em>x</em> and\n",
    "<em>y</em></td>\n",
    "<td>(1)</td>\n",
    "<td>&#160;</td>\n",
    "</tr>\n",
    "<tr class=\"row-odd\"><td><code class=\"docutils literal notranslate\"><span class=\"pre\">x</span> <span class=\"pre\">%</span> <span class=\"pre\">y</span></code></td>\n",
    "<td>remainder of <code class=\"docutils literal notranslate\"><span class=\"pre\">x</span> <span class=\"pre\">/</span> <span class=\"pre\">y</span></code></td>\n",
    "<td>(2)</td>\n",
    "<td>&#160;</td>\n",
    "</tr>\n",
    "<tr class=\"row-even\"><td><code class=\"docutils literal notranslate\"><span class=\"pre\">-x</span></code></td>\n",
    "<td><em>x</em> negated</td>\n",
    "<td>&#160;</td>\n",
    "<td>&#160;</td>\n",
    "</tr>\n",
    "<tr class=\"row-odd\"><td><code class=\"docutils literal notranslate\"><span class=\"pre\">+x</span></code></td>\n",
    "<td><em>x</em> unchanged</td>\n",
    "<td>&#160;</td>\n",
    "<td>&#160;</td>\n",
    "</tr>\n",
    "<tr class=\"row-even\"><td><code class=\"docutils literal notranslate\"><span class=\"pre\">abs(x)</span></code></td>\n",
    "<td>absolute value or magnitude of\n",
    "<em>x</em></td>\n",
    "<td>&#160;</td>\n",
    "<td><a class=\"reference internal\" href=\"functions.html#abs\" title=\"abs\"><code class=\"xref py py-func docutils literal notranslate\"><span class=\"pre\">abs()</span></code></a></td>\n",
    "</tr>\n",
    "<tr class=\"row-odd\"><td><code class=\"docutils literal notranslate\"><span class=\"pre\">int(x)</span></code></td>\n",
    "<td><em>x</em> converted to integer</td>\n",
    "<td>(3)(6)</td>\n",
    "<td><a class=\"reference internal\" href=\"functions.html#int\" title=\"int\"><code class=\"xref py py-func docutils literal notranslate\"><span class=\"pre\">int()</span></code></a></td>\n",
    "</tr>\n",
    "<tr class=\"row-even\"><td><code class=\"docutils literal notranslate\"><span class=\"pre\">float(x)</span></code></td>\n",
    "<td><em>x</em> converted to floating point</td>\n",
    "<td>(4)(6)</td>\n",
    "<td><a class=\"reference internal\" href=\"functions.html#float\" title=\"float\"><code class=\"xref py py-func docutils literal notranslate\"><span class=\"pre\">float()</span></code></a></td>\n",
    "</tr>\n",
    "<tr class=\"row-odd\"><td><code class=\"docutils literal notranslate\"><span class=\"pre\">complex(re,</span> <span class=\"pre\">im)</span></code></td>\n",
    "<td>a complex number with real part\n",
    "<em>re</em>, imaginary part <em>im</em>.\n",
    "<em>im</em> defaults to zero.</td>\n",
    "<td>(6)</td>\n",
    "<td><a class=\"reference internal\" href=\"functions.html#complex\" title=\"complex\"><code class=\"xref py py-func docutils literal notranslate\"><span class=\"pre\">complex()</span></code></a></td>\n",
    "</tr>\n",
    "<tr class=\"row-even\"><td><code class=\"docutils literal notranslate\"><span class=\"pre\">c.conjugate()</span></code></td>\n",
    "<td>conjugate of the complex number\n",
    "<em>c</em></td>\n",
    "<td>&#160;</td>\n",
    "<td>&#160;</td>\n",
    "</tr>\n",
    "<tr class=\"row-odd\"><td><code class=\"docutils literal notranslate\"><span class=\"pre\">divmod(x,</span> <span class=\"pre\">y)</span></code></td>\n",
    "<td>the pair <code class=\"docutils literal notranslate\"><span class=\"pre\">(x</span> <span class=\"pre\">//</span> <span class=\"pre\">y,</span> <span class=\"pre\">x</span> <span class=\"pre\">%</span> <span class=\"pre\">y)</span></code></td>\n",
    "<td>(2)</td>\n",
    "<td><a class=\"reference internal\" href=\"functions.html#divmod\" title=\"divmod\"><code class=\"xref py py-func docutils literal notranslate\"><span class=\"pre\">divmod()</span></code></a></td>\n",
    "</tr>\n",
    "<tr class=\"row-even\"><td><code class=\"docutils literal notranslate\"><span class=\"pre\">pow(x,</span> <span class=\"pre\">y)</span></code></td>\n",
    "<td><em>x</em> to the power <em>y</em></td>\n",
    "<td>(5)</td>\n",
    "<td><a class=\"reference internal\" href=\"functions.html#pow\" title=\"pow\"><code class=\"xref py py-func docutils literal notranslate\"><span class=\"pre\">pow()</span></code></a></td>\n",
    "</tr>\n",
    "<tr class=\"row-odd\"><td><code class=\"docutils literal notranslate\"><span class=\"pre\">x</span> <span class=\"pre\">**</span> <span class=\"pre\">y</span></code></td>\n",
    "<td><em>x</em> to the power <em>y</em></td>\n",
    "<td>(5)</td>\n",
    "<td>&#160;</td>\n",
    "</tr>\n",
    "</tbody>\n",
    "</table>\n",
    "Notes:\n",
    "\n",
    "Also referred to as integer division. The resultant value is a whole integer, though the result’s type is not necessarily int. The result is always rounded towards minus infinity: 1//2 is 0, (-1)//2 is -1, 1//(-2) is -1, and (-1)//(-2) is 0.\n",
    "\n",
    "Not for complex numbers. Instead convert to floats using abs() if appropriate.\n",
    "\n",
    "Conversion from floating point to integer may round or truncate as in C; see functions math.floor() and math.ceil() for well-defined conversions.\n",
    "\n",
    "float also accepts the strings “nan” and “inf” with an optional prefix “+” or “-” for Not a Number (NaN) and positive or negative infinity.\n",
    "\n",
    "Python defines pow(0, 0) and 0 \\** 0 to be 1, as is common for programming languages.\n",
    "\n",
    "The numeric literals accepted include the digits 0 to 9 or any Unicode equivalent (code points with the Nd property).\n",
    "\n",
    "See http://www.unicode.org/Public/10.0.0/ucd/extracted/DerivedNumericType.txt for a complete list of code points with the Nd property.\n",
    "\n",
    "The source of above table is from https://docs.python.org/3/library/stdtypes.html"
   ]
  },
  {
   "cell_type": "markdown",
   "metadata": {},
   "source": [
    "# string\n",
    "String operating is absolutely a basic element in all kinds of programming languages.\n",
    "In Python, we put texts into quotes, '' or \"\", to form a string. \n",
    "It can also be seen as a sequence of characters, having the same usage of indexing and slicing just like list type. "
   ]
  },
  {
   "cell_type": "code",
   "execution_count": 3,
   "metadata": {},
   "outputs": [
    {
     "name": "stdout",
     "output_type": "stream",
     "text": [
      "Hello World!\n"
     ]
    }
   ],
   "source": [
    "str=\"Hello World!\"\n",
    "print(str)"
   ]
  },
  {
   "cell_type": "markdown",
   "metadata": {},
   "source": [
    "# common string methods\n",
    "- s.lower(), s.upper() -- returns the lowercase or uppercase version of the string\n",
    "- s.strip() -- returns a string with whitespace removed from the start and end\n",
    "- s.isalpha()/s.isdigit()/s.isspace()... -- tests if all the string chars are in the various character classes\n",
    "- s.startswith('other'), s.endswith('other') -- tests if the string starts or ends with the given other string\n",
    "- s.find('other') -- searches for the given other string (not a regular expression) within s, and returns the first index where it begins or -1 if not found\n",
    "- s.replace('old', 'new') -- returns a string where all occurrences of 'old' have been replaced by 'new'\n",
    "- s.split('delim') -- returns a list of substrings separated by the given delimiter. The delimiter is not a regular expression, it's just text. 'aaa,bbb,ccc'.split(',') -> ['aaa', 'bbb', 'ccc']. As a convenient special case s.split() (with no arguments) splits on all whitespace chars.\n",
    "- s.join(list) -- opposite of split(), joins the elements in the given list together using the string as the delimiter. e.g. '---'.join(['aaa', 'bbb', 'ccc']) -> aaa---bbb---ccc\n",
    "\n",
    "More detail in string methods: https://docs.python.org/3/library/stdtypes.html#string-methods"
   ]
  },
  {
   "cell_type": "markdown",
   "metadata": {},
   "source": [
    "# list\n",
    "list is an ordered sequence of items, and items in a list can be of different data types.\n",
    "\n",
    "Creating a list is very easy: just assign items within a bracket pair [ ].\n",
    "The syntax for accessing the items of a list is to specify the corresponding indices inside the brackets.\n",
    "Remember, the indexing in Python starts with 0 from left to right, and -1 from right to left.\n",
    "What's more, with expression by indices and colon symbol, slicing is an easy job in Python. If you omit the first index, the slice starts at the beginning, and vice versa."
   ]
  },
  {
   "cell_type": "code",
   "execution_count": 12,
   "metadata": {},
   "outputs": [
    {
     "name": "stdout",
     "output_type": "stream",
     "text": [
      "\n",
      " create a list \n",
      "\n",
      "[1, 2, 3, 4, 5]\n",
      "[1, 2.0, 3, 'four', 5]\n",
      "\n",
      " indexing \n",
      "\n",
      "four\n",
      "four\n",
      "\n",
      " data type \n",
      "\n",
      "False\n",
      "True\n",
      "\n",
      " list operations \n",
      "\n",
      "[1, 2, 3, 4, 5, 1, 2.0, 3, 'four', 5]\n",
      "[1, 2, 3, 4, 5, 'fourfourfourfour']\n",
      "[1, 2, 3, 4, 5, 20]\n",
      "\n",
      " list slicing \n",
      "\n",
      "[2.0, 3, 'four']\n",
      "[1, 2.0, 3]\n",
      "[1, 2.0, 3, 'four', 5]\n",
      "[2.0, 'four']\n",
      "\n",
      " some supplements \n",
      "\n",
      "o\n",
      "our\n",
      "Hello World!\n",
      "['H', 'e', 'l', 'l', 'o', ' ', 'W', 'o', 'r', 'l', 'd', '!']\n",
      "Hello World!\n"
     ]
    }
   ],
   "source": [
    "print(\"\\n create a list \\n\")\n",
    "example_list1=list()     #if you wanna create an empty list first without assigning any item, use list()\n",
    "example_list1=[1,2,3,4,5]\n",
    "example_list2=[1,2.0,3,\"four\",5]\n",
    "print(example_list1)\n",
    "print(example_list2)\n",
    "\"\"\" the above three statements are available \"\"\"\n",
    "\n",
    "print(\"\\n indexing \\n\")\n",
    "\"\"\"different way for indexing, but indicating the same item \"\"\"\n",
    "print(example_list2[3])\n",
    "print(example_list2[-2])\n",
    "\n",
    "\"\"\"remember the bool data type? \"\"\"\n",
    "print(\"\\n data type \\n\")\n",
    "print('four' in example_list1)\n",
    "print('four' in example_list2)\n",
    "\n",
    "\"\"\"list operations (+ operation is easy to understand its functionaloty, \n",
    "but * operator may result a surprise while processing different data type)\"\"\"\n",
    "print(\"\\n list operations \\n\")\n",
    "print(example_list1+example_list2)\n",
    "print(example_list1 + [example_list2[3]*4])\n",
    "print(example_list1 + [example_list2[4]*4])\n",
    "\n",
    "\"\"\" list slicing \"\"\"\n",
    "print(\"\\n list slicing \\n\")\n",
    "print(example_list2[1:4]) # here 1:4 means from index 1 and stop by 4, example_list2[4] is not included in the sliced list\n",
    "print(example_list2[:-2])\n",
    "print(example_list2[:])\n",
    "print(example_list2[1::2]) #return every second items from example_list2, commencing from the 1st item\n",
    "\n",
    "\"\"\" remember what I told you about string? you can also convert a string to a list of characters and join them as origin \"\"\"\n",
    "print(\"\\n some supplements \\n\")\n",
    "print(example_list2[3][1])\n",
    "print(example_list2[3][1:4])\n",
    "str2list=list(str)\n",
    "print(str)\n",
    "print(str2list)\n",
    "list2str=\"\".join(str2list)\n",
    "print(list2str)"
   ]
  },
  {
   "cell_type": "markdown",
   "metadata": {},
   "source": [
    "## nested list\n",
    "lists can also be included in another list"
   ]
  },
  {
   "cell_type": "code",
   "execution_count": 5,
   "metadata": {
    "scrolled": true
   },
   "outputs": [
    {
     "name": "stdout",
     "output_type": "stream",
     "text": [
      "[[1, 2, 3, 4, 5], [1, 2.0, 3, 'four', 5]]\n",
      "[1, 2.0, 3, 'four', 5]\n",
      "[3, 'four', 5]\n"
     ]
    }
   ],
   "source": [
    "all_examples=[example_list1,example_list2]\n",
    "print(all_examples)\n",
    "print(all_examples[1])\n",
    "print(all_examples[1][2:5])"
   ]
  },
  {
   "cell_type": "markdown",
   "metadata": {},
   "source": [
    "# Common list methods and functions\n",
    "## Method\n",
    "- append(x)  append the item x to the end of the list  \n",
    "- pop(x)    returns the x+1 th item from the list and deletes it as well; if no index is provided, it deletes and returns the last item\n",
    "- extend(x)    takes x as an argument and appends all of the elements \n",
    "- insert(i,x)    inserts the element x at the given index i, sifting elements to the right\n",
    "- remove(x)    removes the first item in the list that is equal to x\n",
    "- del    this operator can also be used to remove items; multiple items are available with a slice index\n",
    "- reverse()    reverses the order of the items in the list\n",
    "- sort(x)    sort the items in the list in ascending order (using reverse=True as parameter assignment for descending order)\n",
    "- index(x)    returns the index of first item that is equal to x\n",
    "\n",
    "## function\n",
    "- max(x)/min(x)    return the maximum/minimum value from list x\n",
    "- sum(x)    return the sum of the values of list x\n",
    "- len(x)    return the number of elements in list x\n",
    "- sorted(x) return a new sorted list but doesn't sort the list x\n",
    "\n"
   ]
  },
  {
   "cell_type": "code",
   "execution_count": 75,
   "metadata": {},
   "outputs": [
    {
     "name": "stdout",
     "output_type": "stream",
     "text": [
      "The content of example_list1 is [1, 2, 3, 4, 5]\n",
      "after applying example_list1.append(6), example_list1 -> [1, 2, 3, 4, 5, 6]\n",
      "after applying example_list1.pop(5), example_list1 -> [1, 2, 3, 4, 5]\n",
      "after applying example_list1.extend([7,7,8,9]), example_list1 -> [1, 2, 3, 4, 5, 7, 7, 8, 9]\n",
      "after applying example_list1.insert(5,6), example_list1 -> [1, 2, 3, 4, 5, 6, 7, 7, 8, 9]\n",
      "after applying example_list1.remove(7), example_list1 -> [1, 2, 3, 4, 5, 6, 7, 8, 9]\n",
      "after applying del example_list1[3], example_list1 -> [1, 2, 3, 5, 6, 7, 8, 9]\n",
      "after applying del example_list1[1:3], example_list1 -> [1, 5, 6, 7, 8, 9]\n",
      "after applying del example_list1, example_list1 becomes nonexist False \n",
      "\n",
      "reset example_list1 as [8, 3, 7, 9, 4, 2, 6, 4, 8, 10]\n",
      "after applying example_list1.reverse(), example_list1 -> [10, 8, 4, 6, 2, 4, 9, 7, 3, 8]\n",
      "after applying example_list1.sort(), example_list1 -> [2, 3, 4, 4, 6, 7, 8, 8, 9, 10]\n",
      "after applying example_list1.sort(reverse=True), example_list1 -> [10, 9, 8, 8, 7, 6, 4, 4, 3, 2]\n",
      "executing example_list1.index(3) returns 8\n",
      "call max(example_list1), result would be 10\n",
      "call min(example_list1), result would be 2\n",
      "call len(example_list1), result would be 10\n",
      "call sorted(example_list1), result would be [2, 3, 4, 4, 6, 7, 8, 8, 9, 10]; but example_list is still [10, 9, 8, 8, 7, 6, 4, 4, 3, 2]\n"
     ]
    }
   ],
   "source": [
    "example_list1=[1, 2, 3, 4, 5]\n",
    "print(\"The content of example_list1 is {}\".format(example_list1))\n",
    "example_list1.append(6)\n",
    "print(\"after applying example_list1.append(6), example_list1 -> {}\".format(example_list1))\n",
    "example_list1.pop(5)\n",
    "print(\"after applying example_list1.pop(5), example_list1 -> {}\".format(example_list1))\n",
    "example_list1.extend([7,7,8,9])\n",
    "print(\"after applying example_list1.extend([7,7,8,9]), example_list1 -> {}\".format(example_list1))\n",
    "example_list1.insert(5,6)\n",
    "print(\"after applying example_list1.insert(5,6), example_list1 -> {}\".format(example_list1))\n",
    "example_list1.remove(7)\n",
    "print(\"after applying example_list1.remove(7), example_list1 -> {}\".format(example_list1))\n",
    "del example_list1[3]\n",
    "print(\"after applying del example_list1[3], example_list1 -> {}\".format(example_list1))\n",
    "del example_list1[1:3]\n",
    "print(\"after applying del example_list1[1:3], example_list1 -> {}\".format(example_list1))\n",
    "del example_list1\n",
    "print(\"after applying del example_list1, example_list1 becomes nonexist {} \\n\".format('example_list1' in locals()))\n",
    "\n",
    "example_list1=[8,3,7,9,4,2,6,4,8,10]\n",
    "print(\"reset example_list1 as {}\".format(example_list1))\n",
    "example_list1.reverse()\n",
    "print(\"after applying example_list1.reverse(), example_list1 -> {}\".format(example_list1))\n",
    "example_list1.sort()\n",
    "print(\"after applying example_list1.sort(), example_list1 -> {}\".format(example_list1))\n",
    "example_list1.sort(reverse=True)\n",
    "print(\"after applying example_list1.sort(reverse=True), example_list1 -> {}\".format(example_list1))\n",
    "print(\"executing example_list1.index(3) returns {}\".format(example_list1.index(3)))\n",
    "\n",
    "\n",
    "print(\"call max(example_list1), result would be {}\".format(max(example_list1)))\n",
    "print(\"call min(example_list1), result would be {}\".format(min(example_list1)))\n",
    "print(\"call len(example_list1), result would be {}\".format(len(example_list1)))\n",
    "print(\"call sorted(example_list1), result would be {}; but example_list is still {}\".format(sorted(example_list1),example_list1))\n"
   ]
  },
  {
   "cell_type": "markdown",
   "metadata": {},
   "source": [
    "# tuple\n",
    "A tuple is similar to a list, but its elements cannot be changed after element assignment; whereas, if a nested tuple includes adjustable datatype like list, elements can be changed.\n",
    "Since a tuple is so similar to a list, we won't list examples for every function/method, and indexing/slicing as well."
   ]
  },
  {
   "cell_type": "code",
   "execution_count": 76,
   "metadata": {},
   "outputs": [
    {
     "name": "stdout",
     "output_type": "stream",
     "text": [
      "([1, 2, 3], [4, 5, 6], [7, 8, 9])\n",
      "([1, 2, 3], [4, 5, 6], [7, 8, 9])\n",
      "([1, 2, 3], [4, 5, 6], [3, 3, 3])\n",
      "([1, 2, 3], [4, 5, 6], [3, 3, 3, 3])\n"
     ]
    }
   ],
   "source": [
    "L1=[1,2,3];L2=[4,5,6];L3=[7,8,9]\n",
    "\n",
    "#option 1: assign a tuple includes three lists directly\n",
    "b=(L1,L2,L3) \n",
    "print(b) #([1, 2, 3], [4, 5, 6], [7, 8, 9])\n",
    "\n",
    "#option 2: convert a list into tuple\n",
    "b=()   #create an empty tuple, not necessary for the following statements if b is not in locals()\n",
    "b=[L1,L2,L3]\n",
    "b=tuple(b) \n",
    "print(b)\n",
    "\n",
    "#update the values of elements\n",
    "#b[2]=[3,3,3] #got error message\n",
    "b[2][:]=[3,3,3] #workable\n",
    "print(b)\n",
    "b[2][:]=[3,3,3,3] #even change the size of the list for b[2] is workable\n",
    "print(b)"
   ]
  },
  {
   "cell_type": "code",
   "execution_count": null,
   "metadata": {},
   "outputs": [],
   "source": []
  }
 ],
 "metadata": {
  "kernelspec": {
   "display_name": "Python 3",
   "language": "python",
   "name": "python3"
  },
  "language_info": {
   "codemirror_mode": {
    "name": "ipython",
    "version": 3
   },
   "file_extension": ".py",
   "mimetype": "text/x-python",
   "name": "python",
   "nbconvert_exporter": "python",
   "pygments_lexer": "ipython3",
   "version": "3.5.5"
  }
 },
 "nbformat": 4,
 "nbformat_minor": 1
}
